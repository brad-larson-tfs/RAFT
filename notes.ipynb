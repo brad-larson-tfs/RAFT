{
 "cells": [
  {
   "cell_type": "markdown",
   "metadata": {},
   "source": [
    "# [Recurrent All-Pairs Field Transforms for Optical Flow](https://arxiv.org/pdf/2003.12039.pdf)\n",
    "\n",
    "![Raft Diagram](img/RAFT.png)\n",
    "![Raft Details](img/RaftCorrelation.png)\n",
    "\n",
    "Selected Derived works:\n",
    "- Zhu, Xizhou, et al. \"Deformable detr: Deformable transformers for end-to-end object detection.\" arXiv preprint arXiv:2010.04159 (2020).\n",
    "- Park, Keunhong, et al. \"Nerfies: Deformable neural radiance fields.\" Proceedings of the IEEE/CVF International Conference on Computer Vision. 2021\n",
    "- Huang, Zhewei, et al. \"Rife: Real-time intermediate flow estimation for video frame interpolation.\" arXiv preprint arXiv:2011.06294 (2020).\n",
    "- Kopf, Johannes, Xuejian Rong, and Jia-Bin Huang. \"Robust consistent video depth estimation.\" Proceedings of the IEEE/CVF Conference on Computer Vision and Pattern Recognition. 2021.\n",
    "- Teed, Zachary, and Jia Deng. \"Raft-3d: Scene flow using rigid-motion embeddings.\" Proceedings of the IEEE/CVF Conference on Computer Vision and Pattern Recognition. 2021.\n",
    "- Lipson, Lahav, Zachary Teed, and Jia Deng. \"Raft-stereo: Multilevel recurrent field transforms for stereo matching.\" 2021 International Conference on 3D Vision (3DV). IEEE, 2021.\n",
    "- Wei, Yi, et al. \"PV-RAFT: point-voxel correlation fields for scene flow estimation of point clouds.\" Proceedings of the IEEE/CVF Conference on Computer Vision and Pattern Recognition. 2021.\n",
    "- Stone, Austin, et al. \"SMURF: Self-teaching multi-frame unsupervised RAFT with full-image warping.\" Proceedings of the IEEE/CVF Conference on Computer Vision and Pattern Recognition. 2021.\n",
    "- Gehrig, Mathias, et al. \"E-RAFT: Dense optical flow from event cameras.\" 2021 International Conference on 3D Vision (3DV). IEEE, 2021.\n",
    "- Ma, Zeyu, Zachary Teed, and Jia Deng. \"Multiview Stereo with Cascaded Epipolar RAFT.\" arXiv preprint arXiv:2205.04502 (2022).\n",
    "- Khaishagi, Mohd Asif Khan, Praful Kumar, and Dinesh Naik. \"Dense Optical Flow using RAFT.\" 2022 IEEE Fourth International Conference on Advances in Electronics, Computers and Communications (ICAECC). IEEE, 2022.\n",
    "- Zhao, Chenhao, et al. \"RAFT-SLAM: Deep Optical-Flow Assisted Simultaneous Localization and Mapping.\" 2021 China Automation Congress (CAC). IEEE, 2021.\n",
    "- Fritsch, Sebastian. Advanced data augmentation for the RAFT optical flow approach. BS thesis. 2021.\n",
    "- Ma, Zeyu, Zachary Teed, and Jia Deng. \"Multiview Stereo with Cascaded Epipolar RAFT.\" arXiv preprint arXiv:2205.04502 (2022).\n",
    "- Lo, Ka Man. \"Optical Flow Based Motion Detection for Autonomous Driving.\" arXiv preprint arXiv:2203.11693 (2022).\n",
    "- Shimizu, Joi, Heming Sun, and Jiro Katto. \"Forward and Backward Warping for Optical Flow-Based Frame Interpolation.\" 2022 International Conference on Artificial Intelligence in Information and Communication (ICAIIC). IEEE, 2022.\n",
    "- Zhao, Shiyu, et al. \"Global Matching with Overlapping Attention for Optical Flow Estimation.\" arXiv preprint arXiv:2203.11335 (2022).\n",
    "- Zhou, Shili, Weimin Tan, and Bo Yan. \"Promoting Single-Modal Optical Flow Network for Diverse Cross-modal Flow Estimation.\" (2022).\n"
   ]
  },
  {
   "cell_type": "code",
   "execution_count": 4,
   "metadata": {},
   "outputs": [
    {
     "name": "stdout",
     "output_type": "stream",
     "text": [
      "Sending build context to Docker daemon  17.65MB\n",
      "Step 1/14 : FROM nvcr.io/nvidia/pytorch:21.12-py3\n",
      "21.12-py3: Pulling from nvidia/pytorch\n",
      "Digest: sha256:a8da7de491196b61e06909c39bcccc0a1c5c4e0a89ecfb2d55a56164bafa9fc9\n",
      "Status: Image is up to date for nvcr.io/nvidia/pytorch:21.12-py3\n",
      " ---> 4c14b66a4c09\n",
      "Step 2/14 : LABEL maintainer=\"Brad Larson\"\n",
      " ---> Using cache\n",
      " ---> 44e7f4c38c94\n",
      "Step 3/14 : ENV TZ=America/Los_Angeles\n",
      " ---> Using cache\n",
      " ---> e7800c0c3bec\n",
      "Step 4/14 : RUN ln -snf /usr/share/zoneinfo/$TZ /etc/localtime && echo $TZ > /etc/timezone\n",
      " ---> Using cache\n",
      " ---> a4a401ac1b12\n",
      "Step 5/14 : RUN apt-get update -y && apt-get upgrade -y && apt-get autoremove -y &&     apt-get install -y libgl1-mesa-glx wget ffmpeg\n",
      " ---> Using cache\n",
      " ---> 798d6340b1d6\n",
      "Step 6/14 : RUN pip install --upgrade pip\n",
      " ---> Using cache\n",
      " ---> 1aae786dea51\n",
      "Step 7/14 : RUN pip3 install --upgrade pip\n",
      " ---> Using cache\n",
      " ---> 9c5b33408a5f\n",
      "Step 8/14 : RUN pip3 --no-cache-dir install         numpy         opencv-python         minio         tqdm         natsort         debugpy         path         matplotlib         torch         torchvision==0.7.0         tensorboard         tensorboardX         torch_tb_profiler         scipy         scikit-image         scikit-learn         apex         wget         configparser         pycocotools         prettytable         onnx         onnxruntime-gpu         pycuda         PyYAML         mlflow         pymlutil\n",
      " ---> Using cache\n",
      " ---> 92ce8c0da30e\n",
      "Step 9/14 : RUN echo 'alias py=python' >> ~/.bashrc\n",
      " ---> Using cache\n",
      " ---> 2aa5d0ebe7dd\n",
      "Step 10/14 : WORKDIR /app\n",
      " ---> Using cache\n",
      " ---> 301375026b22\n",
      "Step 11/14 : ENV LANG C.UTF-8\n",
      " ---> Using cache\n",
      " ---> 65a7e30b5734\n",
      "Step 12/14 : EXPOSE 6006\n",
      " ---> Using cache\n",
      " ---> 47d813f8a1d6\n",
      "Step 13/14 : EXPOSE 3000\n",
      " ---> Using cache\n",
      " ---> b2a5e89b7ceb\n",
      "Step 14/14 : RUN [\"/bin/bash\"]\n",
      " ---> Using cache\n",
      " ---> 72e7881fc439\n",
      "Successfully built 72e7881fc439\n",
      "Successfully tagged raft:latest\n"
     ]
    }
   ],
   "source": [
    "!./drb # build docker container\n",
    "!./dr # run docker container to the console"
   ]
  },
  {
   "cell_type": "markdown",
   "metadata": {},
   "source": [
    "[Correlation](https://en.wikipedia.org/wiki/Correlation)\n",
    "\n",
    "$ corr(X,Y) = \\frac{conv(X,Y)}{\\sigma_X  \\sigma_Y} $ \\\n",
    "[Raft Correlatoin](https://github.com/princeton-vl/RAFT/blob/master/core/corr.py#L53)"
   ]
  },
  {
   "cell_type": "markdown",
   "metadata": {},
   "source": []
  }
 ],
 "metadata": {
  "interpreter": {
   "hash": "31f2aee4e71d21fbe5cf8b01ff0e069b9275f58929596ceb00d14d90e3e16cd6"
  },
  "kernelspec": {
   "display_name": "Python 3.8.10 64-bit",
   "language": "python",
   "name": "python3"
  },
  "language_info": {
   "codemirror_mode": {
    "name": "ipython",
    "version": 3
   },
   "file_extension": ".py",
   "mimetype": "text/x-python",
   "name": "python",
   "nbconvert_exporter": "python",
   "pygments_lexer": "ipython3",
   "version": "3.8.10"
  },
  "orig_nbformat": 4
 },
 "nbformat": 4,
 "nbformat_minor": 2
}
